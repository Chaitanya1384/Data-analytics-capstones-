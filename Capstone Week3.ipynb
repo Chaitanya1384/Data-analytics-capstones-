{
    "cells": [
        {
            "metadata": {},
            "cell_type": "code",
            "source": "import numpy as np # library to handle data in a vectorized manner\n\nimport pandas as pd # library for data analsysis\npd.set_option('display.max_columns', None)\npd.set_option('display.max_rows', None)\n\nimport json # library to handle JSON files\n\n#!conda install -c conda-forge geopy --yes # uncomment this line if you haven't completed the Foursquare API lab\n#from geopy.geocoders import Nominatim # convert an address into latitude and longitude values\n\nimport requests # library to handle requests\nfrom pandas.io.json import json_normalize # tranform JSON file into a pandas dataframe\n\n# Matplotlib and associated plotting modules\nimport matplotlib.cm as cm\nimport matplotlib.colors as colors\n\n# import k-means from clustering stage\nfrom sklearn.cluster import KMeans\n\n#!conda install -c conda-forge folium=0.5.0 --yes # uncomment this line if you haven't completed the Foursquare API lab\n#import folium # map rendering library\n\nprint('Libraries imported.')",
            "execution_count": 1,
            "outputs": [
                {
                    "output_type": "stream",
                    "text": "Libraries imported.\n",
                    "name": "stdout"
                }
            ]
        },
        {
            "metadata": {},
            "cell_type": "code",
            "source": "from bs4 import BeautifulSoup",
            "execution_count": 2,
            "outputs": []
        },
        {
            "metadata": {},
            "cell_type": "code",
            "source": "wikipg = requests.get('https://en.wikipedia.org/wiki/List_of_postal_codes_of_Canada:_M').text",
            "execution_count": 3,
            "outputs": []
        },
        {
            "metadata": {},
            "cell_type": "code",
            "source": "soup = BeautifulSoup(wikipg,'html')\nsoup=soup.find('table')\nrows=soup.find_all('th')\ncolumns=soup.find_all('td')\ndf_row=[]\ndf_col1=[]\ndf_col2=[]\ndf_col3=[]",
            "execution_count": 4,
            "outputs": []
        },
        {
            "metadata": {},
            "cell_type": "code",
            "source": "for i in range(0,len(rows)):\n    #print(rows[i].text.strip())\n    df_row.append(rows[i].text.strip())\nfor i in range(0,len(columns),len(rows)):\n    df_col1.append(columns[i].text.strip())\nfor i in range(1,len(columns),len(rows)):\n    df_col2.append(columns[i].text.strip())\nfor i in range(2,len(columns),len(rows)):\n    df_col3.append(columns[i].text.strip())",
            "execution_count": 5,
            "outputs": []
        },
        {
            "metadata": {},
            "cell_type": "code",
            "source": "dict = {df_row[0]:df_col1,df_row[1]:df_col2,df_row[2]:df_col3}\nDF=pd.DataFrame(dict)",
            "execution_count": 22,
            "outputs": []
        },
        {
            "metadata": {},
            "cell_type": "code",
            "source": "DF.replace('Not assigned',np.NaN,inplace=True)\nDF.dropna(inplace=True)\nDF.reset_index(drop=True,inplace=True)",
            "execution_count": 38,
            "outputs": []
        },
        {
            "metadata": {},
            "cell_type": "code",
            "source": "DF=DF.groupby(['Postal Code','Borough'])['Neighbourhood'].apply(','.join).reset_index()",
            "execution_count": 51,
            "outputs": []
        },
        {
            "metadata": {},
            "cell_type": "code",
            "source": "DF.shape",
            "execution_count": null,
            "outputs": []
        }
    ],
    "metadata": {
        "kernelspec": {
            "name": "python3",
            "display_name": "Python 3.6",
            "language": "python"
        },
        "language_info": {
            "name": "python",
            "version": "3.6.9",
            "mimetype": "text/x-python",
            "codemirror_mode": {
                "name": "ipython",
                "version": 3
            },
            "pygments_lexer": "ipython3",
            "nbconvert_exporter": "python",
            "file_extension": ".py"
        }
    },
    "nbformat": 4,
    "nbformat_minor": 1
}